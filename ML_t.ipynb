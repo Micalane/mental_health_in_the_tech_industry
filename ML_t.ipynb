{
 "cells": [
  {
   "cell_type": "code",
   "execution_count": 1,
   "metadata": {},
   "outputs": [
    {
     "data": {
      "text/plain": [
       "'2.4.0'"
      ]
     },
     "execution_count": 1,
     "metadata": {},
     "output_type": "execute_result"
    }
   ],
   "source": [
    "import numpy as np\n",
    "import pandas as pd\n",
    "import tensorflow\n",
    "import csv\n",
    "from sklearn.model_selection import train_test_split\n",
    "from sklearn.preprocessing import LabelEncoder, MinMaxScaler\n",
    "from tensorflow.keras.utils import to_categorical\n",
    "from sklearn.datasets import make_classification\n",
    "from sklearn.preprocessing import StandardScaler\n",
    "from tensorflow.keras.models import Sequential\n",
    "from tensorflow.keras.layers import Dense\n",
    "tensorflow.keras.__version__"
   ]
  },
  {
   "cell_type": "code",
   "execution_count": 2,
   "metadata": {},
   "outputs": [],
   "source": [
    "file = 'cleaned_data_t.csv'\n",
    "clean_df = pd.read_csv(file)"
   ]
  },
  {
   "cell_type": "code",
   "execution_count": 3,
   "metadata": {},
   "outputs": [
    {
     "name": "stdout",
     "output_type": "stream",
     "text": [
      "Unnamed: 0              1401\n",
      "Self-employed           1401\n",
      "Tech_employee           1401\n",
      "Current_disorder        1401\n",
      "Condition               1401\n",
      "Gender                  1400\n",
      "Remote                  1401\n",
      "Anxiety Disorder        1401\n",
      "Mood Disorder           1401\n",
      "Eating Disorder         1401\n",
      "ADHD                    1401\n",
      "Personality Disorder    1401\n",
      "Other                   1401\n",
      "dtype: int64\n"
     ]
    },
    {
     "data": {
      "text/plain": [
       "1"
      ]
     },
     "execution_count": 3,
     "metadata": {},
     "output_type": "execute_result"
    }
   ],
   "source": [
    "print(clean_df.count())\n",
    "clean_df.isnull().sum().sum()"
   ]
  },
  {
   "cell_type": "code",
   "execution_count": 4,
   "metadata": {},
   "outputs": [],
   "source": [
    "#clean_df = clean_df[[\"Self-employed\", \"Tech_employee\", \"Gender\", \"Remote\", \"Current_disorder\", \"Anxiety Disorder\", \"Mood Disorder\", \"Eating Disorder\", \"ADHD\", \"Personality Disorder\", \"Other\"]]\n",
    "cleaned_df = clean_df[[\"Self-employed\", \"Tech_employee\", \"Gender\", \"Remote\", \"Personality Disorder\"]]"
   ]
  },
  {
   "cell_type": "code",
   "execution_count": 5,
   "metadata": {},
   "outputs": [
    {
     "name": "stderr",
     "output_type": "stream",
     "text": [
      "C:\\Users\\tonyg\\anaconda3\\lib\\site-packages\\ipykernel_launcher.py:2: SettingWithCopyWarning: \n",
      "A value is trying to be set on a copy of a slice from a DataFrame.\n",
      "Try using .loc[row_indexer,col_indexer] = value instead\n",
      "\n",
      "See the caveats in the documentation: https://pandas.pydata.org/pandas-docs/stable/user_guide/indexing.html#returning-a-view-versus-a-copy\n",
      "  \n"
     ]
    },
    {
     "data": {
      "text/plain": [
       "Self-employed           0\n",
       "Tech_employee           0\n",
       "Gender                  0\n",
       "Remote                  0\n",
       "Personality Disorder    0\n",
       "dtype: int64"
      ]
     },
     "execution_count": 5,
     "metadata": {},
     "output_type": "execute_result"
    }
   ],
   "source": [
    "cleaned_df.head()\n",
    "cleaned_df[\"Gender\"] = cleaned_df[\"Gender\"].fillna(0)\n",
    "cleaned_df.isnull().sum()"
   ]
  },
  {
   "cell_type": "code",
   "execution_count": 6,
   "metadata": {},
   "outputs": [
    {
     "data": {
      "text/plain": [
       "Self-employed           float64\n",
       "Tech_employee           float64\n",
       "Gender                  float64\n",
       "Remote                  float64\n",
       "Personality Disorder    float64\n",
       "dtype: object"
      ]
     },
     "execution_count": 6,
     "metadata": {},
     "output_type": "execute_result"
    }
   ],
   "source": [
    "cleaned_df.head()\n",
    "cleaned_df= cleaned_df.astype(float)\n",
    "cleaned_df.dtypes"
   ]
  },
  {
   "cell_type": "code",
   "execution_count": 7,
   "metadata": {},
   "outputs": [],
   "source": [
    "data = cleaned_df.values\n",
    "X = data[:, 0:4]\n",
    "y = data[:, 4]"
   ]
  },
  {
   "cell_type": "code",
   "execution_count": 8,
   "metadata": {},
   "outputs": [],
   "source": [
    "X_train, X_test, y_train, y_test = train_test_split(X, y, random_state=42)\n",
    "X_scaler = StandardScaler().fit(X_train)"
   ]
  },
  {
   "cell_type": "code",
   "execution_count": 9,
   "metadata": {},
   "outputs": [],
   "source": [
    "X_train_scaled = X_scaler.transform(X_train)\n",
    "X_test_scaled = X_scaler.transform(X_test)"
   ]
  },
  {
   "cell_type": "code",
   "execution_count": 10,
   "metadata": {},
   "outputs": [],
   "source": [
    "y_train_categorical = to_categorical(y_train)\n",
    "y_test_categorical = to_categorical(y_test)"
   ]
  },
  {
   "cell_type": "code",
   "execution_count": 11,
   "metadata": {},
   "outputs": [],
   "source": [
    "y_train = y_train.reshape((-1,1))\n",
    "y_test = y_test.reshape((-1,1))"
   ]
  },
  {
   "cell_type": "code",
   "execution_count": 12,
   "metadata": {},
   "outputs": [
    {
     "data": {
      "text/plain": [
       "0"
      ]
     },
     "execution_count": 12,
     "metadata": {},
     "output_type": "execute_result"
    }
   ],
   "source": [
    "cleaned_df.isnull().sum().sum()\n",
    "#clean_df"
   ]
  },
  {
   "cell_type": "code",
   "execution_count": 13,
   "metadata": {},
   "outputs": [],
   "source": [
    "model = Sequential()\n",
    "number_inputs = 4\n",
    "number_hidden_nodes = 12\n",
    "model.add(Dense(units=number_hidden_nodes,\n",
    "                activation='relu', input_dim=number_inputs))"
   ]
  },
  {
   "cell_type": "code",
   "execution_count": 14,
   "metadata": {},
   "outputs": [
    {
     "name": "stdout",
     "output_type": "stream",
     "text": [
      "Model: \"sequential\"\n",
      "_________________________________________________________________\n",
      "Layer (type)                 Output Shape              Param #   \n",
      "=================================================================\n",
      "dense (Dense)                (None, 12)                60        \n",
      "_________________________________________________________________\n",
      "dense_1 (Dense)              (None, 100)               1300      \n",
      "_________________________________________________________________\n",
      "dense_2 (Dense)              (None, 2)                 202       \n",
      "=================================================================\n",
      "Total params: 1,562\n",
      "Trainable params: 1,562\n",
      "Non-trainable params: 0\n",
      "_________________________________________________________________\n"
     ]
    }
   ],
   "source": [
    "number_classes = 1\n",
    "model.add(Dense(units=100, activation='relu', input_dim=20))\n",
    "#model.add(Dense(units=100, activation='relu'))\n",
    "model.add(Dense(units=2, activation='sigmoid'))\n",
    "model.summary()"
   ]
  },
  {
   "cell_type": "code",
   "execution_count": 15,
   "metadata": {},
   "outputs": [],
   "source": [
    "model.compile(optimizer='adam', loss=\"binary_crossentropy\", metrics=['accuracy'])\n",
    "from keras.optimizers import SGD\n",
    "opt = SGD(lr=.01)\n",
    "#model.compile(loss = \"binary_crossentropy\", optimizer = opt,metrics=['accuracy'])\n",
    "#'categorical_crossentropy'"
   ]
  },
  {
   "cell_type": "code",
   "execution_count": 16,
   "metadata": {},
   "outputs": [
    {
     "name": "stdout",
     "output_type": "stream",
     "text": [
      "Epoch 1/100\n"
     ]
    },
    {
     "name": "stderr",
     "output_type": "stream",
     "text": [
      "C:\\Users\\tonyg\\anaconda3\\lib\\site-packages\\tensorflow\\python\\data\\ops\\dataset_ops.py:3350: UserWarning: Even though the tf.config.experimental_run_functions_eagerly option is set, this option does not apply to tf.data functions. tf.data functions are still traced and executed as graphs.\n",
      "  \"Even though the tf.config.experimental_run_functions_eagerly \"\n"
     ]
    },
    {
     "name": "stdout",
     "output_type": "stream",
     "text": [
      "33/33 - 0s - loss: 0.5213 - accuracy: 0.9295\n",
      "Epoch 2/100\n",
      "33/33 - 0s - loss: 0.2745 - accuracy: 0.9705\n",
      "Epoch 3/100\n",
      "33/33 - 0s - loss: 0.1689 - accuracy: 0.9705\n",
      "Epoch 4/100\n",
      "33/33 - 0s - loss: 0.1458 - accuracy: 0.9705\n",
      "Epoch 5/100\n",
      "33/33 - 0s - loss: 0.1393 - accuracy: 0.9705\n",
      "Epoch 6/100\n",
      "33/33 - 0s - loss: 0.1357 - accuracy: 0.9705\n",
      "Epoch 7/100\n",
      "33/33 - 0s - loss: 0.1336 - accuracy: 0.9705\n",
      "Epoch 8/100\n",
      "33/33 - 0s - loss: 0.1315 - accuracy: 0.9705\n",
      "Epoch 9/100\n",
      "33/33 - 0s - loss: 0.1303 - accuracy: 0.9705\n",
      "Epoch 10/100\n",
      "33/33 - 0s - loss: 0.1295 - accuracy: 0.9705\n",
      "Epoch 11/100\n",
      "33/33 - 0s - loss: 0.1290 - accuracy: 0.9705\n",
      "Epoch 12/100\n",
      "33/33 - 0s - loss: 0.1278 - accuracy: 0.9705\n",
      "Epoch 13/100\n",
      "33/33 - 0s - loss: 0.1269 - accuracy: 0.9705\n",
      "Epoch 14/100\n",
      "33/33 - 0s - loss: 0.1267 - accuracy: 0.9705\n",
      "Epoch 15/100\n",
      "33/33 - 0s - loss: 0.1262 - accuracy: 0.9705\n",
      "Epoch 16/100\n",
      "33/33 - 0s - loss: 0.1256 - accuracy: 0.9705\n",
      "Epoch 17/100\n",
      "33/33 - 0s - loss: 0.1252 - accuracy: 0.9705\n",
      "Epoch 18/100\n",
      "33/33 - 0s - loss: 0.1247 - accuracy: 0.9705\n",
      "Epoch 19/100\n",
      "33/33 - 0s - loss: 0.1240 - accuracy: 0.9705\n",
      "Epoch 20/100\n",
      "33/33 - 0s - loss: 0.1238 - accuracy: 0.9705\n",
      "Epoch 21/100\n",
      "33/33 - 0s - loss: 0.1235 - accuracy: 0.9705\n",
      "Epoch 22/100\n",
      "33/33 - 0s - loss: 0.1238 - accuracy: 0.9705\n",
      "Epoch 23/100\n",
      "33/33 - 0s - loss: 0.1230 - accuracy: 0.9705\n",
      "Epoch 24/100\n",
      "33/33 - 0s - loss: 0.1228 - accuracy: 0.9705\n",
      "Epoch 25/100\n",
      "33/33 - 0s - loss: 0.1228 - accuracy: 0.9705\n",
      "Epoch 26/100\n",
      "33/33 - 0s - loss: 0.1225 - accuracy: 0.9705\n",
      "Epoch 27/100\n",
      "33/33 - 0s - loss: 0.1223 - accuracy: 0.9705\n",
      "Epoch 28/100\n",
      "33/33 - 0s - loss: 0.1226 - accuracy: 0.9705\n",
      "Epoch 29/100\n",
      "33/33 - 0s - loss: 0.1220 - accuracy: 0.9705\n",
      "Epoch 30/100\n",
      "33/33 - 0s - loss: 0.1217 - accuracy: 0.9705\n",
      "Epoch 31/100\n",
      "33/33 - 0s - loss: 0.1215 - accuracy: 0.9705\n",
      "Epoch 32/100\n",
      "33/33 - 0s - loss: 0.1218 - accuracy: 0.9705\n",
      "Epoch 33/100\n",
      "33/33 - 0s - loss: 0.1218 - accuracy: 0.9705\n",
      "Epoch 34/100\n",
      "33/33 - 0s - loss: 0.1215 - accuracy: 0.9705\n",
      "Epoch 35/100\n",
      "33/33 - 0s - loss: 0.1221 - accuracy: 0.9705\n",
      "Epoch 36/100\n",
      "33/33 - 0s - loss: 0.1213 - accuracy: 0.9705\n",
      "Epoch 37/100\n",
      "33/33 - 0s - loss: 0.1211 - accuracy: 0.9705\n",
      "Epoch 38/100\n",
      "33/33 - 0s - loss: 0.1208 - accuracy: 0.9705\n",
      "Epoch 39/100\n",
      "33/33 - 0s - loss: 0.1208 - accuracy: 0.9705\n",
      "Epoch 40/100\n",
      "33/33 - 0s - loss: 0.1221 - accuracy: 0.9705\n",
      "Epoch 41/100\n",
      "33/33 - 0s - loss: 0.1211 - accuracy: 0.9705\n",
      "Epoch 42/100\n",
      "33/33 - 0s - loss: 0.1209 - accuracy: 0.9705\n",
      "Epoch 43/100\n",
      "33/33 - 0s - loss: 0.1206 - accuracy: 0.9705\n",
      "Epoch 44/100\n",
      "33/33 - 0s - loss: 0.1210 - accuracy: 0.9705\n",
      "Epoch 45/100\n",
      "33/33 - 0s - loss: 0.1207 - accuracy: 0.9705\n",
      "Epoch 46/100\n",
      "33/33 - 0s - loss: 0.1209 - accuracy: 0.9705\n",
      "Epoch 47/100\n",
      "33/33 - 0s - loss: 0.1206 - accuracy: 0.9705\n",
      "Epoch 48/100\n",
      "33/33 - 0s - loss: 0.1209 - accuracy: 0.9705\n",
      "Epoch 49/100\n",
      "33/33 - 0s - loss: 0.1207 - accuracy: 0.9705\n",
      "Epoch 50/100\n",
      "33/33 - 0s - loss: 0.1205 - accuracy: 0.9705\n",
      "Epoch 51/100\n",
      "33/33 - 0s - loss: 0.1211 - accuracy: 0.9705\n",
      "Epoch 52/100\n",
      "33/33 - 0s - loss: 0.1206 - accuracy: 0.9705\n",
      "Epoch 53/100\n",
      "33/33 - 0s - loss: 0.1204 - accuracy: 0.9705\n",
      "Epoch 54/100\n",
      "33/33 - 0s - loss: 0.1209 - accuracy: 0.9705\n",
      "Epoch 55/100\n",
      "33/33 - 0s - loss: 0.1207 - accuracy: 0.9705\n",
      "Epoch 56/100\n",
      "33/33 - 0s - loss: 0.1201 - accuracy: 0.9705\n",
      "Epoch 57/100\n",
      "33/33 - 0s - loss: 0.1205 - accuracy: 0.9705\n",
      "Epoch 58/100\n",
      "33/33 - 0s - loss: 0.1210 - accuracy: 0.9705\n",
      "Epoch 59/100\n",
      "33/33 - 0s - loss: 0.1209 - accuracy: 0.9705\n",
      "Epoch 60/100\n",
      "33/33 - 0s - loss: 0.1208 - accuracy: 0.9705\n",
      "Epoch 61/100\n",
      "33/33 - 0s - loss: 0.1204 - accuracy: 0.9705\n",
      "Epoch 62/100\n",
      "33/33 - 0s - loss: 0.1205 - accuracy: 0.9705\n",
      "Epoch 63/100\n",
      "33/33 - 0s - loss: 0.1202 - accuracy: 0.9705\n",
      "Epoch 64/100\n",
      "33/33 - 0s - loss: 0.1207 - accuracy: 0.9705\n",
      "Epoch 65/100\n",
      "33/33 - 0s - loss: 0.1202 - accuracy: 0.9705\n",
      "Epoch 66/100\n",
      "33/33 - 0s - loss: 0.1202 - accuracy: 0.9705\n",
      "Epoch 67/100\n",
      "33/33 - 0s - loss: 0.1201 - accuracy: 0.9705\n",
      "Epoch 68/100\n",
      "33/33 - 0s - loss: 0.1203 - accuracy: 0.9705\n",
      "Epoch 69/100\n",
      "33/33 - 0s - loss: 0.1207 - accuracy: 0.9705\n",
      "Epoch 70/100\n",
      "33/33 - 0s - loss: 0.1205 - accuracy: 0.9705\n",
      "Epoch 71/100\n",
      "33/33 - 0s - loss: 0.1206 - accuracy: 0.9705\n",
      "Epoch 72/100\n",
      "33/33 - 0s - loss: 0.1202 - accuracy: 0.9705\n",
      "Epoch 73/100\n",
      "33/33 - 0s - loss: 0.1202 - accuracy: 0.9705\n",
      "Epoch 74/100\n",
      "33/33 - 0s - loss: 0.1204 - accuracy: 0.9705\n",
      "Epoch 75/100\n",
      "33/33 - 0s - loss: 0.1203 - accuracy: 0.9705\n",
      "Epoch 76/100\n",
      "33/33 - 0s - loss: 0.1205 - accuracy: 0.9705\n",
      "Epoch 77/100\n",
      "33/33 - 0s - loss: 0.1208 - accuracy: 0.9705\n",
      "Epoch 78/100\n",
      "33/33 - 0s - loss: 0.1205 - accuracy: 0.9705\n",
      "Epoch 79/100\n",
      "33/33 - 0s - loss: 0.1199 - accuracy: 0.9705\n",
      "Epoch 80/100\n",
      "33/33 - 0s - loss: 0.1205 - accuracy: 0.9705\n",
      "Epoch 81/100\n",
      "33/33 - 0s - loss: 0.1209 - accuracy: 0.9705\n",
      "Epoch 82/100\n",
      "33/33 - 0s - loss: 0.1204 - accuracy: 0.9705\n",
      "Epoch 83/100\n",
      "33/33 - 0s - loss: 0.1201 - accuracy: 0.9705\n",
      "Epoch 84/100\n",
      "33/33 - 0s - loss: 0.1199 - accuracy: 0.9705\n",
      "Epoch 85/100\n",
      "33/33 - 0s - loss: 0.1200 - accuracy: 0.9705\n",
      "Epoch 86/100\n",
      "33/33 - 0s - loss: 0.1197 - accuracy: 0.9705\n",
      "Epoch 87/100\n",
      "33/33 - 0s - loss: 0.1199 - accuracy: 0.9705\n",
      "Epoch 88/100\n",
      "33/33 - 0s - loss: 0.1202 - accuracy: 0.9705\n",
      "Epoch 89/100\n",
      "33/33 - 0s - loss: 0.1202 - accuracy: 0.9705\n",
      "Epoch 90/100\n",
      "33/33 - 0s - loss: 0.1201 - accuracy: 0.9705\n",
      "Epoch 91/100\n",
      "33/33 - 0s - loss: 0.1203 - accuracy: 0.9705\n",
      "Epoch 92/100\n",
      "33/33 - 0s - loss: 0.1199 - accuracy: 0.9705\n",
      "Epoch 93/100\n",
      "33/33 - 0s - loss: 0.1202 - accuracy: 0.9705\n",
      "Epoch 94/100\n",
      "33/33 - 0s - loss: 0.1201 - accuracy: 0.9705\n",
      "Epoch 95/100\n",
      "33/33 - 0s - loss: 0.1198 - accuracy: 0.9705\n",
      "Epoch 96/100\n",
      "33/33 - 0s - loss: 0.1203 - accuracy: 0.9705\n",
      "Epoch 97/100\n",
      "33/33 - 0s - loss: 0.1202 - accuracy: 0.9705\n",
      "Epoch 98/100\n",
      "33/33 - 0s - loss: 0.1209 - accuracy: 0.9705\n",
      "Epoch 99/100\n",
      "33/33 - 0s - loss: 0.1199 - accuracy: 0.9705\n",
      "Epoch 100/100\n",
      "33/33 - 0s - loss: 0.1207 - accuracy: 0.9705\n"
     ]
    },
    {
     "data": {
      "text/plain": [
       "<tensorflow.python.keras.callbacks.History at 0x17021ecf548>"
      ]
     },
     "execution_count": 16,
     "metadata": {},
     "output_type": "execute_result"
    }
   ],
   "source": [
    "tensorflow.config.run_functions_eagerly(True)\n",
    "model.fit(\n",
    "    X_train_scaled,\n",
    "    y_train_categorical,\n",
    "    epochs=100,\n",
    "    shuffle=True,\n",
    "    verbose=2\n",
    ")"
   ]
  },
  {
   "cell_type": "code",
   "execution_count": 17,
   "metadata": {},
   "outputs": [
    {
     "name": "stdout",
     "output_type": "stream",
     "text": [
      "11/11 - 0s - loss: 0.0768 - accuracy: 0.9858\n",
      "Loss: 0.07677576690912247, Accuracy: 0.9857549667358398\n"
     ]
    }
   ],
   "source": [
    "model_loss, model_accuracy = model.evaluate(\n",
    "    X_test_scaled, y_test_categorical, verbose=2)\n",
    "print(f\"Loss: {model_loss}, Accuracy: {model_accuracy}\")"
   ]
  },
  {
   "cell_type": "code",
   "execution_count": 18,
   "metadata": {},
   "outputs": [
    {
     "name": "stdout",
     "output_type": "stream",
     "text": [
      "WARNING:tensorflow:From <ipython-input-18-2ab80c80a18a>:29: Sequential.predict_classes (from tensorflow.python.keras.engine.sequential) is deprecated and will be removed after 2021-01-01.\n",
      "Instructions for updating:\n",
      "Please use instead:* `np.argmax(model.predict(x), axis=-1)`,   if your model does multi-class classification   (e.g. if it uses a `softmax` last-layer activation).* `(model.predict(x) > 0.5).astype(\"int32\")`,   if your model does binary classification   (e.g. if it uses a `sigmoid` last-layer activation).\n"
     ]
    }
   ],
   "source": [
    "#check all combinations to see what comes out positive\n",
    "all_answer_combinations = np.array([\n",
    "    [0, 0, 0, 0], \n",
    "    [0, 0, 0, 1], \n",
    "    [0, 0, 1, 0],\n",
    "    [0, 0, 1, 1],\n",
    "    [0, 1, 0, 0],\n",
    "    [0, 1, 0, 1],\n",
    "    [0, 1, 1, 0],\n",
    "    [0, 1, 1, 1],\n",
    "    [1, 0, 0, 1],\n",
    "    [1, 0, 1, 0],\n",
    "    [1, 0, 1, 1],\n",
    "    [1, 1, 0, 0],\n",
    "    [1, 1, 0, 1],\n",
    "    [1, 1, 1, 0],\n",
    "    [1, 1, 1, 1],\n",
    "    [1, 0, 0, 0],\n",
    "    [0, 0, 0, 0.5], \n",
    "    [0, 0, 1, 0.5],\n",
    "    [0, 1, 0, 0.5],\n",
    "    [0, 1, 1, 0.5],\n",
    "    [1, 0, 0, 0.5],\n",
    "    [1, 0, 1, 0.5],\n",
    "    [1, 1, 0, 0.5],\n",
    "    [1, 1, 1, 0.5]])\n",
    "for i in all_answer_combinations:\n",
    "    data = np.array([i])\n",
    "    if model.predict_classes(data) != 0:\n",
    "        print(f\"Array: {data} Predicted class: {model.predict_classes(data)}\")"
   ]
  },
  {
   "cell_type": "code",
   "execution_count": 19,
   "metadata": {},
   "outputs": [
    {
     "name": "stdout",
     "output_type": "stream",
     "text": [
      "WARNING:tensorflow:From <ipython-input-19-73f9d343597d>:7: Sequential.predict_proba (from tensorflow.python.keras.engine.sequential) is deprecated and will be removed after 2021-01-01.\n",
      "Instructions for updating:\n",
      "Please use `model.predict()` instead.\n",
      "Array: [[0. 0. 0. 0.]] Predicted class: 0.17\n",
      "Array: [[0. 0. 0. 1.]] Predicted class: 0.06\n",
      "Array: [[0. 0. 1. 0.]] Predicted class: 0.09\n",
      "Array: [[0. 0. 1. 1.]] Predicted class: 0.15\n",
      "Array: [[0. 1. 0. 0.]] Predicted class: 0.10\n",
      "Array: [[0. 1. 0. 1.]] Predicted class: 0.07\n",
      "Array: [[0. 1. 1. 0.]] Predicted class: 0.11\n",
      "Array: [[0. 1. 1. 1.]] Predicted class: 0.13\n",
      "Array: [[1. 0. 0. 1.]] Predicted class: 0.07\n",
      "Array: [[1. 0. 1. 0.]] Predicted class: 0.07\n",
      "Array: [[1. 0. 1. 1.]] Predicted class: 0.13\n",
      "Array: [[1. 1. 0. 0.]] Predicted class: 0.11\n",
      "Array: [[1. 1. 0. 1.]] Predicted class: 0.07\n",
      "Array: [[1. 1. 1. 0.]] Predicted class: 0.08\n",
      "Array: [[1. 1. 1. 1.]] Predicted class: 0.08\n",
      "Array: [[1. 0. 0. 0.]] Predicted class: 0.17\n",
      "Array: [[0.  0.  0.  0.5]] Predicted class: 0.11\n",
      "Array: [[0.  0.  1.  0.5]] Predicted class: 0.16\n",
      "Array: [[0.  1.  0.  0.5]] Predicted class: 0.10\n",
      "Array: [[0.  1.  1.  0.5]] Predicted class: 0.13\n",
      "Array: [[1.  0.  0.  0.5]] Predicted class: 0.11\n",
      "Array: [[1.  0.  1.  0.5]] Predicted class: 0.12\n",
      "Array: [[1.  1.  0.  0.5]] Predicted class: 0.10\n",
      "Array: [[1.  1.  1.  0.5]] Predicted class: 0.09\n"
     ]
    }
   ],
   "source": [
    "with open(f\"{cleaned_df.columns[4]}_predictions.csv\", mode='w') as file:\n",
    "    writer = csv.writer(file, delimiter=',', quotechar='\"', quoting=csv.QUOTE_MINIMAL)\n",
    "    writer.writerow(['Selection',cleaned_df.columns[4], 'Model Loss', 'Model Accuracy'])\n",
    "    for i in all_answer_combinations:\n",
    "        data = np.array([i])\n",
    "        #if model.predict_proba(data) != 0:\n",
    "        number = '%.2f' % round(model.predict_proba(data)[0][1],2)\n",
    "        print(f\"Array: {data} Predicted class: {number}\")\n",
    "        writer.writerow([data, number, model_loss, model_accuracy])\n"
   ]
  }
 ],
 "metadata": {
  "kernelspec": {
   "display_name": "Python 3",
   "language": "python",
   "name": "python3"
  },
  "language_info": {
   "codemirror_mode": {
    "name": "ipython",
    "version": 3
   },
   "file_extension": ".py",
   "mimetype": "text/x-python",
   "name": "python",
   "nbconvert_exporter": "python",
   "pygments_lexer": "ipython3",
   "version": "3.7.9"
  }
 },
 "nbformat": 4,
 "nbformat_minor": 4
}
