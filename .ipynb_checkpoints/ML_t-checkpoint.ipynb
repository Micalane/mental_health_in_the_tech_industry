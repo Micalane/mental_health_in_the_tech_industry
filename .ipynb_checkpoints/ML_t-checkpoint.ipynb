{
 "cells": [
  {
   "cell_type": "code",
   "execution_count": 24,
   "metadata": {},
   "outputs": [
    {
     "data": {
      "text/plain": [
       "'2.4.0'"
      ]
     },
     "execution_count": 24,
     "metadata": {},
     "output_type": "execute_result"
    }
   ],
   "source": [
    "import numpy as np\n",
    "import pandas as pd\n",
    "import tensorflow\n",
    "from sklearn.model_selection import train_test_split\n",
    "from sklearn.preprocessing import LabelEncoder, MinMaxScaler\n",
    "from tensorflow.keras.utils import to_categorical\n",
    "from sklearn.datasets import make_classification\n",
    "from sklearn.preprocessing import StandardScaler\n",
    "tensorflow.keras.__version__"
   ]
  },
  {
   "cell_type": "code",
   "execution_count": 25,
   "metadata": {},
   "outputs": [],
   "source": [
    "file = 'cleaned_data_t.csv'\n",
    "clean_df = pd.read_csv(file)"
   ]
  },
  {
   "cell_type": "code",
   "execution_count": 26,
   "metadata": {},
   "outputs": [
    {
     "data": {
      "text/plain": [
       "1"
      ]
     },
     "execution_count": 26,
     "metadata": {},
     "output_type": "execute_result"
    }
   ],
   "source": [
    "clean_df.head()\n",
    "clean_df.isnull().sum().sum()"
   ]
  },
  {
   "cell_type": "code",
   "execution_count": 27,
   "metadata": {},
   "outputs": [],
   "source": [
    "clean_df = clean_df[[\"Self-employed\", \"Tech_employee\", \"Gender\", \"Remote\", \"Anxiety Disorder\", \"Mood Disorder\", \"Eating Disorder\", \"ADHD\", \"Personality Disorder\", \"Other\"]]"
   ]
  },
  {
   "cell_type": "code",
   "execution_count": 29,
   "metadata": {},
   "outputs": [
    {
     "data": {
      "text/plain": [
       "Self-employed           0\n",
       "Tech_employee           0\n",
       "Gender                  0\n",
       "Remote                  0\n",
       "Anxiety Disorder        0\n",
       "Mood Disorder           0\n",
       "Eating Disorder         0\n",
       "ADHD                    0\n",
       "Personality Disorder    0\n",
       "Other                   0\n",
       "dtype: int64"
      ]
     },
     "execution_count": 29,
     "metadata": {},
     "output_type": "execute_result"
    }
   ],
   "source": [
    "clean_df.head()\n",
    "clean_df[\"Gender\"] = clean_df[\"Gender\"].fillna(0)\n",
    "clean_df.isnull().sum()"
   ]
  },
  {
   "cell_type": "code",
   "execution_count": 31,
   "metadata": {},
   "outputs": [
    {
     "data": {
      "text/plain": [
       "Self-employed           float64\n",
       "Tech_employee           float64\n",
       "Gender                  float64\n",
       "Remote                  float64\n",
       "Anxiety Disorder        float64\n",
       "Mood Disorder           float64\n",
       "Eating Disorder         float64\n",
       "ADHD                    float64\n",
       "Personality Disorder    float64\n",
       "Other                   float64\n",
       "dtype: object"
      ]
     },
     "execution_count": 31,
     "metadata": {},
     "output_type": "execute_result"
    }
   ],
   "source": [
    "clean_df.head()\n",
    "clean_df= clean_df.astype(float)\n",
    "clean_df.dtypes"
   ]
  },
  {
   "cell_type": "code",
   "execution_count": 32,
   "metadata": {},
   "outputs": [
    {
     "name": "stdout",
     "output_type": "stream",
     "text": [
      "Self-employed           float64\n",
      "Tech_employee           float64\n",
      "Gender                  float64\n",
      "Remote                  float64\n",
      "Anxiety Disorder        float64\n",
      "Mood Disorder           float64\n",
      "Eating Disorder         float64\n",
      "ADHD                    float64\n",
      "Personality Disorder    float64\n",
      "Other                   float64\n",
      "dtype: object\n"
     ]
    },
    {
     "data": {
      "text/plain": [
       "Self-employed           0\n",
       "Tech_employee           0\n",
       "Gender                  0\n",
       "Remote                  0\n",
       "Anxiety Disorder        0\n",
       "Mood Disorder           0\n",
       "Eating Disorder         0\n",
       "ADHD                    0\n",
       "Personality Disorder    0\n",
       "Other                   0\n",
       "dtype: int64"
      ]
     },
     "execution_count": 32,
     "metadata": {},
     "output_type": "execute_result"
    }
   ],
   "source": [
    "clean_df.head()\n",
    "print(clean_df.dtypes)\n",
    "clean_df.isnull().sum()"
   ]
  },
  {
   "cell_type": "code",
   "execution_count": 33,
   "metadata": {},
   "outputs": [],
   "source": [
    "data = clean_df.values\n",
    "X = data[:, 0:3]\n",
    "y = data[:, 4:9]"
   ]
  },
  {
   "cell_type": "code",
   "execution_count": 34,
   "metadata": {},
   "outputs": [],
   "source": [
    "X_train, X_test, y_train, y_test = train_test_split(X, y, random_state=1)\n",
    "X_scaler = StandardScaler().fit(X_train)"
   ]
  },
  {
   "cell_type": "code",
   "execution_count": 35,
   "metadata": {},
   "outputs": [],
   "source": [
    "X_train_scaled = X_scaler.transform(X_train)\n",
    "X_test_scaled = X_scaler.transform(X_test)"
   ]
  },
  {
   "cell_type": "code",
   "execution_count": 36,
   "metadata": {},
   "outputs": [
    {
     "name": "stdout",
     "output_type": "stream",
     "text": [
      "0.0    1119\n",
      "1.0     282\n",
      "Name: Self-employed, dtype: int64\n",
      "0.0    1157\n",
      "1.0     244\n",
      "Name: Tech_employee, dtype: int64\n",
      "0.0    1061\n",
      "1.0     340\n",
      "Name: Gender, dtype: int64\n",
      "0.5    743\n",
      "1.0    335\n",
      "0.0    323\n",
      "Name: Remote, dtype: int64\n",
      "0.0    1068\n",
      "1.0     333\n",
      "Name: Anxiety Disorder, dtype: int64\n",
      "0.0    1008\n",
      "1.0     393\n",
      "Name: Mood Disorder, dtype: int64\n",
      "0.0    1374\n",
      "1.0      27\n",
      "Name: Eating Disorder, dtype: int64\n",
      "0.0    1283\n",
      "1.0     118\n",
      "Name: ADHD, dtype: int64\n",
      "0.0    1365\n",
      "1.0      36\n",
      "Name: Personality Disorder, dtype: int64\n",
      "0.0    1369\n",
      "1.0      32\n",
      "Name: Other, dtype: int64\n"
     ]
    }
   ],
   "source": [
    "print(clean_df[\"Self-employed\"].value_counts())\n",
    "print(clean_df[\"Tech_employee\"].value_counts())\n",
    "print(clean_df[\"Gender\"].value_counts())\n",
    "print(clean_df[\"Remote\"].value_counts())\n",
    "print(clean_df[\"Anxiety Disorder\"].value_counts())\n",
    "print(clean_df[\"Mood Disorder\"].value_counts())\n",
    "print(clean_df[\"Eating Disorder\"].value_counts())\n",
    "print(clean_df[\"ADHD\"].value_counts())\n",
    "print(clean_df[\"Personality Disorder\"].value_counts())\n",
    "print(clean_df[\"Other\"].value_counts())"
   ]
  },
  {
   "cell_type": "code",
   "execution_count": 37,
   "metadata": {},
   "outputs": [
    {
     "data": {
      "text/plain": [
       "0"
      ]
     },
     "execution_count": 37,
     "metadata": {},
     "output_type": "execute_result"
    }
   ],
   "source": [
    "clean_df.isnull().sum().sum()"
   ]
  },
  {
   "cell_type": "code",
   "execution_count": null,
   "metadata": {},
   "outputs": [],
   "source": []
  }
 ],
 "metadata": {
  "kernelspec": {
   "display_name": "Python 3",
   "language": "python",
   "name": "python3"
  },
  "language_info": {
   "codemirror_mode": {
    "name": "ipython",
    "version": 3
   },
   "file_extension": ".py",
   "mimetype": "text/x-python",
   "name": "python",
   "nbconvert_exporter": "python",
   "pygments_lexer": "ipython3",
   "version": "3.7.9"
  }
 },
 "nbformat": 4,
 "nbformat_minor": 4
}
